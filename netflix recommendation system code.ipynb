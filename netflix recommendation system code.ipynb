{
 "cells": [
  {
   "cell_type": "code",
   "execution_count": 2,
   "id": "f303cb07",
   "metadata": {},
   "outputs": [],
   "source": [
    "import pandas as pd\n",
    "import numpy as np"
   ]
  },
  {
   "cell_type": "code",
   "execution_count": 9,
   "id": "78e05787",
   "metadata": {},
   "outputs": [],
   "source": [
    "netflix_overall = pd.read_csv('C:/Users/Vanshika/PROJECTS/Flask-Netflix-Recommendation-System/netflix_titles.csv')"
   ]
  },
  {
   "cell_type": "code",
   "execution_count": 7,
   "id": "d2704969",
   "metadata": {},
   "outputs": [
    {
     "ename": "SyntaxError",
     "evalue": "unexpected character after line continuation character (<ipython-input-7-dbf6d1471104>, line 1)",
     "output_type": "error",
     "traceback": [
      "\u001b[1;36m  File \u001b[1;32m\"<ipython-input-7-dbf6d1471104>\"\u001b[1;36m, line \u001b[1;32m1\u001b[0m\n\u001b[1;33m    C:\\Users\\Vanshika\\PROJECTS\\Flask-Netflix-Recommendation-System\u001b[0m\n\u001b[1;37m                                                                  ^\u001b[0m\n\u001b[1;31mSyntaxError\u001b[0m\u001b[1;31m:\u001b[0m unexpected character after line continuation character\n"
     ]
    }
   ],
   "source": [
    "C:\\Users\\Vanshika\\PROJECTS\\Flask-Netflix-Recommendation-System"
   ]
  },
  {
   "cell_type": "code",
   "execution_count": null,
   "id": "76b7daf4",
   "metadata": {},
   "outputs": [],
   "source": []
  },
  {
   "cell_type": "code",
   "execution_count": 10,
   "id": "9fa3f84e",
   "metadata": {},
   "outputs": [],
   "source": [
    "netflix_overall = pd.read_csv('C:/Users/Vanshika/PROJECTS/Flask-Netflix-Recommendation-System/netflix_titles.csv')"
   ]
  },
  {
   "cell_type": "code",
   "execution_count": 11,
   "id": "1a2e2872",
   "metadata": {},
   "outputs": [],
   "source": [
    "netflix_data = pd.read_csv('C:/Users/Vanshika/PROJECTS/Flask-Netflix-Recommendation-System/netflix_titles.csv')"
   ]
  },
  {
   "cell_type": "code",
   "execution_count": 12,
   "id": "9022141b",
   "metadata": {},
   "outputs": [
    {
     "data": {
      "text/html": [
       "<div>\n",
       "<style scoped>\n",
       "    .dataframe tbody tr th:only-of-type {\n",
       "        vertical-align: middle;\n",
       "    }\n",
       "\n",
       "    .dataframe tbody tr th {\n",
       "        vertical-align: top;\n",
       "    }\n",
       "\n",
       "    .dataframe thead th {\n",
       "        text-align: right;\n",
       "    }\n",
       "</style>\n",
       "<table border=\"1\" class=\"dataframe\">\n",
       "  <thead>\n",
       "    <tr style=\"text-align: right;\">\n",
       "      <th></th>\n",
       "      <th>show_id</th>\n",
       "      <th>type</th>\n",
       "      <th>title</th>\n",
       "      <th>director</th>\n",
       "      <th>cast</th>\n",
       "      <th>country</th>\n",
       "      <th>date_added</th>\n",
       "      <th>release_year</th>\n",
       "      <th>rating</th>\n",
       "      <th>duration</th>\n",
       "      <th>listed_in</th>\n",
       "      <th>description</th>\n",
       "    </tr>\n",
       "  </thead>\n",
       "  <tbody>\n",
       "    <tr>\n",
       "      <th>0</th>\n",
       "      <td>81145628</td>\n",
       "      <td>Movie</td>\n",
       "      <td>Norm of the North: King Sized Adventure</td>\n",
       "      <td>Richard Finn, Tim Maltby</td>\n",
       "      <td>Alan Marriott, Andrew Toth, Brian Dobson, Cole...</td>\n",
       "      <td>United States, India, South Korea, China</td>\n",
       "      <td>September 9, 2019</td>\n",
       "      <td>2019</td>\n",
       "      <td>TV-PG</td>\n",
       "      <td>90 min</td>\n",
       "      <td>Children &amp; Family Movies, Comedies</td>\n",
       "      <td>Before planning an awesome wedding for his gra...</td>\n",
       "    </tr>\n",
       "    <tr>\n",
       "      <th>1</th>\n",
       "      <td>80117401</td>\n",
       "      <td>Movie</td>\n",
       "      <td>Jandino: Whatever it Takes</td>\n",
       "      <td>NaN</td>\n",
       "      <td>Jandino Asporaat</td>\n",
       "      <td>United Kingdom</td>\n",
       "      <td>September 9, 2016</td>\n",
       "      <td>2016</td>\n",
       "      <td>TV-MA</td>\n",
       "      <td>94 min</td>\n",
       "      <td>Stand-Up Comedy</td>\n",
       "      <td>Jandino Asporaat riffs on the challenges of ra...</td>\n",
       "    </tr>\n",
       "    <tr>\n",
       "      <th>2</th>\n",
       "      <td>70234439</td>\n",
       "      <td>TV Show</td>\n",
       "      <td>Transformers Prime</td>\n",
       "      <td>NaN</td>\n",
       "      <td>Peter Cullen, Sumalee Montano, Frank Welker, J...</td>\n",
       "      <td>United States</td>\n",
       "      <td>September 8, 2018</td>\n",
       "      <td>2013</td>\n",
       "      <td>TV-Y7-FV</td>\n",
       "      <td>1 Season</td>\n",
       "      <td>Kids' TV</td>\n",
       "      <td>With the help of three human allies, the Autob...</td>\n",
       "    </tr>\n",
       "    <tr>\n",
       "      <th>3</th>\n",
       "      <td>80058654</td>\n",
       "      <td>TV Show</td>\n",
       "      <td>Transformers: Robots in Disguise</td>\n",
       "      <td>NaN</td>\n",
       "      <td>Will Friedle, Darren Criss, Constance Zimmer, ...</td>\n",
       "      <td>United States</td>\n",
       "      <td>September 8, 2018</td>\n",
       "      <td>2016</td>\n",
       "      <td>TV-Y7</td>\n",
       "      <td>1 Season</td>\n",
       "      <td>Kids' TV</td>\n",
       "      <td>When a prison ship crash unleashes hundreds of...</td>\n",
       "    </tr>\n",
       "    <tr>\n",
       "      <th>4</th>\n",
       "      <td>80125979</td>\n",
       "      <td>Movie</td>\n",
       "      <td>#realityhigh</td>\n",
       "      <td>Fernando Lebrija</td>\n",
       "      <td>Nesta Cooper, Kate Walsh, John Michael Higgins...</td>\n",
       "      <td>United States</td>\n",
       "      <td>September 8, 2017</td>\n",
       "      <td>2017</td>\n",
       "      <td>TV-14</td>\n",
       "      <td>99 min</td>\n",
       "      <td>Comedies</td>\n",
       "      <td>When nerdy high schooler Dani finally attracts...</td>\n",
       "    </tr>\n",
       "  </tbody>\n",
       "</table>\n",
       "</div>"
      ],
      "text/plain": [
       "    show_id     type                                    title  \\\n",
       "0  81145628    Movie  Norm of the North: King Sized Adventure   \n",
       "1  80117401    Movie               Jandino: Whatever it Takes   \n",
       "2  70234439  TV Show                       Transformers Prime   \n",
       "3  80058654  TV Show         Transformers: Robots in Disguise   \n",
       "4  80125979    Movie                             #realityhigh   \n",
       "\n",
       "                   director  \\\n",
       "0  Richard Finn, Tim Maltby   \n",
       "1                       NaN   \n",
       "2                       NaN   \n",
       "3                       NaN   \n",
       "4          Fernando Lebrija   \n",
       "\n",
       "                                                cast  \\\n",
       "0  Alan Marriott, Andrew Toth, Brian Dobson, Cole...   \n",
       "1                                   Jandino Asporaat   \n",
       "2  Peter Cullen, Sumalee Montano, Frank Welker, J...   \n",
       "3  Will Friedle, Darren Criss, Constance Zimmer, ...   \n",
       "4  Nesta Cooper, Kate Walsh, John Michael Higgins...   \n",
       "\n",
       "                                    country         date_added  release_year  \\\n",
       "0  United States, India, South Korea, China  September 9, 2019          2019   \n",
       "1                            United Kingdom  September 9, 2016          2016   \n",
       "2                             United States  September 8, 2018          2013   \n",
       "3                             United States  September 8, 2018          2016   \n",
       "4                             United States  September 8, 2017          2017   \n",
       "\n",
       "     rating  duration                           listed_in  \\\n",
       "0     TV-PG    90 min  Children & Family Movies, Comedies   \n",
       "1     TV-MA    94 min                     Stand-Up Comedy   \n",
       "2  TV-Y7-FV  1 Season                            Kids' TV   \n",
       "3     TV-Y7  1 Season                            Kids' TV   \n",
       "4     TV-14    99 min                            Comedies   \n",
       "\n",
       "                                         description  \n",
       "0  Before planning an awesome wedding for his gra...  \n",
       "1  Jandino Asporaat riffs on the challenges of ra...  \n",
       "2  With the help of three human allies, the Autob...  \n",
       "3  When a prison ship crash unleashes hundreds of...  \n",
       "4  When nerdy high schooler Dani finally attracts...  "
      ]
     },
     "execution_count": 12,
     "metadata": {},
     "output_type": "execute_result"
    }
   ],
   "source": [
    "netflix_data.head()"
   ]
  },
  {
   "cell_type": "code",
   "execution_count": 13,
   "id": "16117d9f",
   "metadata": {},
   "outputs": [],
   "source": [
    "netflix_data = netflix_data.fillna('')"
   ]
  },
  {
   "cell_type": "code",
   "execution_count": 14,
   "id": "a6028eab",
   "metadata": {},
   "outputs": [],
   "source": [
    "def clean_data(x):\n",
    "        return str.lower(x.replace(\" \", \"\"))"
   ]
  },
  {
   "cell_type": "code",
   "execution_count": 15,
   "id": "bf7d1dd1",
   "metadata": {},
   "outputs": [],
   "source": [
    "new_features = ['title', 'director', 'cast', 'listed_in', 'description']\n",
    "netflix_data = netflix_data[new_features]"
   ]
  },
  {
   "cell_type": "code",
   "execution_count": 16,
   "id": "aee83b6a",
   "metadata": {},
   "outputs": [],
   "source": [
    "for new_features in new_features:\n",
    "    netflix_data[new_features] = netflix_data[new_features].apply(clean_data)"
   ]
  },
  {
   "cell_type": "code",
   "execution_count": 17,
   "id": "b0ecc1bc",
   "metadata": {},
   "outputs": [
    {
     "data": {
      "text/html": [
       "<div>\n",
       "<style scoped>\n",
       "    .dataframe tbody tr th:only-of-type {\n",
       "        vertical-align: middle;\n",
       "    }\n",
       "\n",
       "    .dataframe tbody tr th {\n",
       "        vertical-align: top;\n",
       "    }\n",
       "\n",
       "    .dataframe thead th {\n",
       "        text-align: right;\n",
       "    }\n",
       "</style>\n",
       "<table border=\"1\" class=\"dataframe\">\n",
       "  <thead>\n",
       "    <tr style=\"text-align: right;\">\n",
       "      <th></th>\n",
       "      <th>title</th>\n",
       "      <th>director</th>\n",
       "      <th>cast</th>\n",
       "      <th>listed_in</th>\n",
       "      <th>description</th>\n",
       "    </tr>\n",
       "  </thead>\n",
       "  <tbody>\n",
       "    <tr>\n",
       "      <th>0</th>\n",
       "      <td>normofthenorth:kingsizedadventure</td>\n",
       "      <td>richardfinn,timmaltby</td>\n",
       "      <td>alanmarriott,andrewtoth,briandobson,colehoward...</td>\n",
       "      <td>children&amp;familymovies,comedies</td>\n",
       "      <td>beforeplanninganawesomeweddingforhisgrandfathe...</td>\n",
       "    </tr>\n",
       "    <tr>\n",
       "      <th>1</th>\n",
       "      <td>jandino:whateverittakes</td>\n",
       "      <td></td>\n",
       "      <td>jandinoasporaat</td>\n",
       "      <td>stand-upcomedy</td>\n",
       "      <td>jandinoasporaatriffsonthechallengesofraisingki...</td>\n",
       "    </tr>\n",
       "    <tr>\n",
       "      <th>2</th>\n",
       "      <td>transformersprime</td>\n",
       "      <td></td>\n",
       "      <td>petercullen,sumaleemontano,frankwelker,jeffrey...</td>\n",
       "      <td>kids'tv</td>\n",
       "      <td>withthehelpofthreehumanallies,theautobotsoncea...</td>\n",
       "    </tr>\n",
       "    <tr>\n",
       "      <th>3</th>\n",
       "      <td>transformers:robotsindisguise</td>\n",
       "      <td></td>\n",
       "      <td>willfriedle,darrencriss,constancezimmer,kharyp...</td>\n",
       "      <td>kids'tv</td>\n",
       "      <td>whenaprisonshipcrashunleasheshundredsofdecepti...</td>\n",
       "    </tr>\n",
       "    <tr>\n",
       "      <th>4</th>\n",
       "      <td>#realityhigh</td>\n",
       "      <td>fernandolebrija</td>\n",
       "      <td>nestacooper,katewalsh,johnmichaelhiggins,keith...</td>\n",
       "      <td>comedies</td>\n",
       "      <td>whennerdyhighschoolerdanifinallyattractstheint...</td>\n",
       "    </tr>\n",
       "  </tbody>\n",
       "</table>\n",
       "</div>"
      ],
      "text/plain": [
       "                               title               director  \\\n",
       "0  normofthenorth:kingsizedadventure  richardfinn,timmaltby   \n",
       "1            jandino:whateverittakes                          \n",
       "2                  transformersprime                          \n",
       "3      transformers:robotsindisguise                          \n",
       "4                       #realityhigh        fernandolebrija   \n",
       "\n",
       "                                                cast  \\\n",
       "0  alanmarriott,andrewtoth,briandobson,colehoward...   \n",
       "1                                    jandinoasporaat   \n",
       "2  petercullen,sumaleemontano,frankwelker,jeffrey...   \n",
       "3  willfriedle,darrencriss,constancezimmer,kharyp...   \n",
       "4  nestacooper,katewalsh,johnmichaelhiggins,keith...   \n",
       "\n",
       "                        listed_in  \\\n",
       "0  children&familymovies,comedies   \n",
       "1                  stand-upcomedy   \n",
       "2                         kids'tv   \n",
       "3                         kids'tv   \n",
       "4                        comedies   \n",
       "\n",
       "                                         description  \n",
       "0  beforeplanninganawesomeweddingforhisgrandfathe...  \n",
       "1  jandinoasporaatriffsonthechallengesofraisingki...  \n",
       "2  withthehelpofthreehumanallies,theautobotsoncea...  \n",
       "3  whenaprisonshipcrashunleasheshundredsofdecepti...  \n",
       "4  whennerdyhighschoolerdanifinallyattractstheint...  "
      ]
     },
     "execution_count": 17,
     "metadata": {},
     "output_type": "execute_result"
    }
   ],
   "source": [
    "netflix_data.head()"
   ]
  },
  {
   "cell_type": "code",
   "execution_count": 18,
   "id": "b25b2eed",
   "metadata": {},
   "outputs": [],
   "source": [
    "def create_soup(x):\n",
    "    return x['title']+ ' ' + x['director'] + ' ' + x['cast'] + ' ' +x['listed_in']+' '+ x['description']"
   ]
  },
  {
   "cell_type": "code",
   "execution_count": 19,
   "id": "a32c4e42",
   "metadata": {},
   "outputs": [],
   "source": [
    "netflix_data['soup'] = netflix_data.apply(create_soup, axis=1)\n"
   ]
  },
  {
   "cell_type": "code",
   "execution_count": 20,
   "id": "47043534",
   "metadata": {},
   "outputs": [
    {
     "data": {
      "text/html": [
       "<div>\n",
       "<style scoped>\n",
       "    .dataframe tbody tr th:only-of-type {\n",
       "        vertical-align: middle;\n",
       "    }\n",
       "\n",
       "    .dataframe tbody tr th {\n",
       "        vertical-align: top;\n",
       "    }\n",
       "\n",
       "    .dataframe thead th {\n",
       "        text-align: right;\n",
       "    }\n",
       "</style>\n",
       "<table border=\"1\" class=\"dataframe\">\n",
       "  <thead>\n",
       "    <tr style=\"text-align: right;\">\n",
       "      <th></th>\n",
       "      <th>title</th>\n",
       "      <th>director</th>\n",
       "      <th>cast</th>\n",
       "      <th>listed_in</th>\n",
       "      <th>description</th>\n",
       "      <th>soup</th>\n",
       "    </tr>\n",
       "  </thead>\n",
       "  <tbody>\n",
       "    <tr>\n",
       "      <th>0</th>\n",
       "      <td>normofthenorth:kingsizedadventure</td>\n",
       "      <td>richardfinn,timmaltby</td>\n",
       "      <td>alanmarriott,andrewtoth,briandobson,colehoward...</td>\n",
       "      <td>children&amp;familymovies,comedies</td>\n",
       "      <td>beforeplanninganawesomeweddingforhisgrandfathe...</td>\n",
       "      <td>normofthenorth:kingsizedadventure richardfinn,...</td>\n",
       "    </tr>\n",
       "  </tbody>\n",
       "</table>\n",
       "</div>"
      ],
      "text/plain": [
       "                               title               director  \\\n",
       "0  normofthenorth:kingsizedadventure  richardfinn,timmaltby   \n",
       "\n",
       "                                                cast  \\\n",
       "0  alanmarriott,andrewtoth,briandobson,colehoward...   \n",
       "\n",
       "                        listed_in  \\\n",
       "0  children&familymovies,comedies   \n",
       "\n",
       "                                         description  \\\n",
       "0  beforeplanninganawesomeweddingforhisgrandfathe...   \n",
       "\n",
       "                                                soup  \n",
       "0  normofthenorth:kingsizedadventure richardfinn,...  "
      ]
     },
     "execution_count": 20,
     "metadata": {},
     "output_type": "execute_result"
    }
   ],
   "source": [
    "netflix_data.head(1)"
   ]
  },
  {
   "cell_type": "code",
   "execution_count": 21,
   "id": "3ec5e9e6",
   "metadata": {},
   "outputs": [],
   "source": [
    "from sklearn.feature_extraction.text import CountVectorizer\n",
    "from sklearn.metrics.pairwise import cosine_similarity\n",
    "count = CountVectorizer(stop_words='english')\n",
    "count_matrix = count.fit_transform(netflix_data['soup'])\n",
    "cosine_sim2 = cosine_similarity(count_matrix, count_matrix)"
   ]
  },
  {
   "cell_type": "code",
   "execution_count": 22,
   "id": "117f3870",
   "metadata": {},
   "outputs": [],
   "source": [
    "netflix_data=netflix_data.reset_index()"
   ]
  },
  {
   "cell_type": "code",
   "execution_count": 23,
   "id": "6459b7a4",
   "metadata": {},
   "outputs": [],
   "source": [
    "indices = pd.Series(netflix_data.index, index=netflix_data['title'])"
   ]
  },
  {
   "cell_type": "code",
   "execution_count": 24,
   "id": "03181bfc",
   "metadata": {},
   "outputs": [
    {
     "data": {
      "text/plain": [
       "title\n",
       "normofthenorth:kingsizedadventure    0\n",
       "jandino:whateverittakes              1\n",
       "transformersprime                    2\n",
       "transformers:robotsindisguise        3\n",
       "#realityhigh                         4\n",
       "dtype: int64"
      ]
     },
     "execution_count": 24,
     "metadata": {},
     "output_type": "execute_result"
    }
   ],
   "source": [
    "indices.head()"
   ]
  },
  {
   "cell_type": "code",
   "execution_count": 25,
   "id": "ec8db784",
   "metadata": {},
   "outputs": [],
   "source": [
    "result = 0\n",
    "def get_recommendations_new(title, cosine_sim):\n",
    "    global result\n",
    "    title=title.replace(' ','').lower()\n",
    "    idx = indices[title]\n",
    "\n",
    "    # Get the pairwsie similarity scores of all movies with that movie\n",
    "    sim_scores = list(enumerate(cosine_sim[idx]))\n",
    "\n",
    "    # Sort the movies based on the similarity scores\n",
    "    sim_scores = sorted(sim_scores, key=lambda x: x[1], reverse=True)\n",
    "\n",
    "    # Get the scores of the 10 most similar movies\n",
    "    sim_scores = sim_scores[1:11]\n",
    "\n",
    "    # Get the movie indices\n",
    "    movie_indices = [i[0] for i in sim_scores]\n",
    "\n",
    "    # Return the top 10 most similar movies\n",
    "    result =  netflix_overall['title'].iloc[movie_indices]\n",
    "    return result"
   ]
  },
  {
   "cell_type": "code",
   "execution_count": 29,
   "id": "bce325b3",
   "metadata": {},
   "outputs": [
    {
     "data": {
      "text/plain": [
       "41                                PK\n",
       "2128               War Chhod Na Yaar\n",
       "5494    The Legend of Michael Mishra\n",
       "4925                 Rang De Basanti\n",
       "4507                         Talaash\n",
       "2196                          Haapus\n",
       "691                            Sanju\n",
       "2378                      Super Nani\n",
       "4110                Taare Zameen Par\n",
       "5060              Ferrari Ki Sawaari\n",
       "Name: title, dtype: object"
      ]
     },
     "execution_count": 29,
     "metadata": {},
     "output_type": "execute_result"
    }
   ],
   "source": [
    "get_recommendations_new('3 idiots', cosine_sim2)"
   ]
  },
  {
   "cell_type": "code",
   "execution_count": 27,
   "id": "fff59c18",
   "metadata": {},
   "outputs": [],
   "source": [
    "result = result.to_frame()\n",
    "result = result.reset_index()\n",
    "del result['index']"
   ]
  },
  {
   "cell_type": "code",
   "execution_count": 30,
   "id": "f21232be",
   "metadata": {},
   "outputs": [
    {
     "data": {
      "text/plain": [
       "41                                PK\n",
       "2128               War Chhod Na Yaar\n",
       "5494    The Legend of Michael Mishra\n",
       "4925                 Rang De Basanti\n",
       "4507                         Talaash\n",
       "2196                          Haapus\n",
       "691                            Sanju\n",
       "2378                      Super Nani\n",
       "4110                Taare Zameen Par\n",
       "5060              Ferrari Ki Sawaari\n",
       "Name: title, dtype: object"
      ]
     },
     "execution_count": 30,
     "metadata": {},
     "output_type": "execute_result"
    }
   ],
   "source": [
    "result"
   ]
  },
  {
   "cell_type": "code",
   "execution_count": null,
   "id": "177ed98a",
   "metadata": {},
   "outputs": [],
   "source": []
  }
 ],
 "metadata": {
  "kernelspec": {
   "display_name": "Python 3",
   "language": "python",
   "name": "python3"
  },
  "language_info": {
   "codemirror_mode": {
    "name": "ipython",
    "version": 3
   },
   "file_extension": ".py",
   "mimetype": "text/x-python",
   "name": "python",
   "nbconvert_exporter": "python",
   "pygments_lexer": "ipython3",
   "version": "3.8.8"
  }
 },
 "nbformat": 4,
 "nbformat_minor": 5
}
